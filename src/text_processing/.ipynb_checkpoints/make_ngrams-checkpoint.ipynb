{
 "cells": [
  {
   "cell_type": "code",
   "execution_count": 9,
   "metadata": {
    "collapsed": false
   },
   "outputs": [
    {
     "name": "stdout",
     "output_type": "stream",
     "text": [
      "True\n"
     ]
    }
   ],
   "source": [
    "import sys\n",
    "import os\n",
    "\n",
    "PROJECT_ROOT = '/home/astra/work/projects/lamedoc_new/project/'\n",
    "if os.path.dirname(PROJECT_ROOT) not in sys.path:\n",
    "    sys.path.append(os.path.dirname(PROJECT_ROOT))\n",
    "\n",
    "print(os.path.dirname(PROJECT_ROOT) in sys.path)\n",
    "\n",
    "from src.utils.files_paths import init_paths\n",
    "\n",
    "unigram_text_filepath = init_paths()['unigram_text_filepath']\n",
    "bigram_model_filepath = init_paths()['bigram_model_filepath']\n",
    "bigram_text_filepath = init_paths()['bigram_text_filepath']\n",
    "trigram_model_filepath = init_paths()['trigram_model_filepath']\n",
    "trigram_text_filepath = init_paths()['trigram_text_filepath']\n",
    "\n",
    "normalized_text_filepath = init_paths()['normalized_text_filepath']"
   ]
  },
  {
   "cell_type": "code",
   "execution_count": null,
   "metadata": {
    "collapsed": true
   },
   "outputs": [],
   "source": []
  }
 ],
 "metadata": {
  "anaconda-cloud": {},
  "hide_input": false,
  "kernelspec": {
   "display_name": "Python [conda env:lamedoc]",
   "language": "python",
   "name": "conda-env-lamedoc-py"
  },
  "language_info": {
   "codemirror_mode": {
    "name": "ipython",
    "version": 3
   },
   "file_extension": ".py",
   "mimetype": "text/x-python",
   "name": "python",
   "nbconvert_exporter": "python",
   "pygments_lexer": "ipython3",
   "version": "3.5.2"
  },
  "toc": {
   "nav_menu": {
    "height": "12px",
    "width": "252px"
   },
   "navigate_menu": true,
   "number_sections": true,
   "sideBar": true,
   "threshold": 4,
   "toc_cell": false,
   "toc_section_display": "block",
   "toc_window_display": false
  }
 },
 "nbformat": 4,
 "nbformat_minor": 2
}
