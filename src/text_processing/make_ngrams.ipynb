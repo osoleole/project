{
 "cells": [
  {
   "cell_type": "code",
   "execution_count": 6,
   "metadata": {
    "collapsed": false
   },
   "outputs": [
    {
     "name": "stdout",
     "output_type": "stream",
     "text": [
      "['', '/home/astra/anaconda3/envs/lamedoc/lib/python35.zip', '/home/astra/anaconda3/envs/lamedoc/lib/python3.5', '/home/astra/anaconda3/envs/lamedoc/lib/python3.5/plat-linux', '/home/astra/anaconda3/envs/lamedoc/lib/python3.5/lib-dynload', '/home/astra/anaconda3/envs/lamedoc/lib/python3.5/site-packages', '/home/astra/anaconda3/envs/lamedoc/lib/python3.5/site-packages/Sphinx-1.4.8-py3.5.egg', '/home/astra/anaconda3/envs/lamedoc/lib/python3.5/site-packages/setuptools-27.2.0-py3.5.egg', '/home/astra/anaconda3/envs/lamedoc/lib/python3.5/site-packages/IPython/extensions', '/home/astra/.ipython', '/home/astra/work/projects/lamedoc_new/project', '/home/astra/work/projects/lamedoc_new/project', '/home/astra/work/projects/lamedoc_new/project', '/home/astra/work/projects/lamedoc_new/project', '/home/astra/work/projects/lamedoc_new/project', '/home/astra/work/projects/lamedoc_new/project']\n",
      "{'trigram_text_filepath': '/home/astra/db/processed_text/ngrams/wiki_trigram_25_12_2016_21_43.txt', 'bigram_text_filepath': '/home/astra/db/processed_text/ngrams/wiki_bigram_25_12_2016_21_43.txt', 'unigram_text_filepath': '/home/astra/db/processed_text/ngrams/wiki_unigram_25_12_2016_21_43.txt', 'bigram_model_filepath': '/home/astra/db/processed_text/ngrams/wiki_bigram_model_25_12_2016_21_43', 'trigram_model_filepath': '/home/astra/db/processed_text/ngrams/wiki_trigram_model_25_12_2016_21_43', 'normalized_text_filepath': '/home/astra/db/processed_text/normalized/wiki_normalized_25_12_2016_21_43.txt'}\n"
     ]
    }
   ],
   "source": [
    "import sys\n",
    "import os\n",
    "\n",
    "PROJECT_ROOT = '/home/astra/work/projects/lamedoc_new/project/'\n",
    "sys.path.append(os.path.dirname(PROJECT_ROOT))\n",
    "print(sys.path)\n",
    "\n",
    "from src.utils.files_paths import init_paths\n",
    "\n",
    "print(init_paths())"
   ]
  },
  {
   "cell_type": "code",
   "execution_count": null,
   "metadata": {
    "collapsed": true
   },
   "outputs": [],
   "source": []
  }
 ],
 "metadata": {
  "anaconda-cloud": {},
  "hide_input": false,
  "kernelspec": {
   "display_name": "Python [conda env:lamedoc]",
   "language": "python",
   "name": "conda-env-lamedoc-py"
  },
  "language_info": {
   "codemirror_mode": {
    "name": "ipython",
    "version": 3
   },
   "file_extension": ".py",
   "mimetype": "text/x-python",
   "name": "python",
   "nbconvert_exporter": "python",
   "pygments_lexer": "ipython3",
   "version": "3.5.2"
  },
  "toc": {
   "nav_menu": {
    "height": "12px",
    "width": "252px"
   },
   "navigate_menu": true,
   "number_sections": true,
   "sideBar": true,
   "threshold": 4,
   "toc_cell": false,
   "toc_section_display": "block",
   "toc_window_display": false
  }
 },
 "nbformat": 4,
 "nbformat_minor": 2
}
