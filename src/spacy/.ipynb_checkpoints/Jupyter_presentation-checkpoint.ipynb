{
 "cells": [
  {
   "cell_type": "markdown",
   "metadata": {},
   "source": [
    "This is the test of making __documents__ from **jupyter** notebook\n",
    "===\n",
    "\n",
    "\n",
    "sudo apt-get install pandoc\n",
    "sudo apt-get install textlive-full\n",
    "\n",
    "Examples of nbconverter.\n",
    "https://nbconvert.readthedocs.io/en/latest/nbconvert_library.html#Example\n",
    "https://github.com/jakevdp/PythonDataScienceHandbook\n",
    "\n",
    "https://github.com/jupyter/nbconvert/issues/155\n",
    "\n",
    "install\n",
    "https://github.com/ipython-contrib/jupyter_contrib_nbextensions\n",
    "\n",
    "\n",
    "with: \n",
    "---\n",
    "1. `conda install -c conda-forge jupyter_contrib_nbextensions`\n",
    "2. `jupyter contrib nbextension install --user`\n",
    "3. `jupyter contrib nbextension install --user`\n",
    "4. conda install -c conda-forge jupyter_nbextensions_configurator\n",
    "5. jupyter nbextensions_configurator enable\n",
    "6. reload `ctr-c` jupyter notebook\n",
    "\n",
    "3. go to View > Cell Toolbar > Edit Metadata\n",
    "4. click the Edit Metadata button now showing to the top right of the cell\n",
    "5. add 'hide_input':True to the json e.g. mine looked like { \"collapsed\": false, \"hide_input\": true, \"trusted\": true } after\n",
    "6. save notebook\n",
    "3. `upyter nbconvert --to pdf --template printviewlatex.tplx Jupyter_presentation.ipynb`\n",
    "\n",
    "Making equations\n",
    "===\n",
    "\n",
    "$$\\sum_{i=0}^\\infty e^{i\\pi} + 1 = 0\\ (1)$$\n",
    "\n",
    "\n",
    "$$e^x=\\sum_{i=0}^\\infty \\frac{1}{i!}x^i$$\n",
    "\n",
    "\\begin{equation}\n",
    "E = F \\cdot s \n",
    "e^x=\\sum_{i=0}^\\infty \\frac{1}{i!}x^i\n",
    "\\end{equation}\n",
    "\n",
    "\\begin{equation}\n",
    "w_{i}^{T}w_{k}=log(P_{ik})=log(X_{ik})-log(X_{i})\n",
    "\\end{equation}\n",
    "\n",
    "\\begin{equation}\n",
    "\\begin{array}{ccc}\n",
    "1 & 2 & 3\\\\\n",
    "4 & 5 & 6\\\\\n",
    "7 & 8 & 9\n",
    "\\end{array}\n",
    "\\end{equation}\n",
    "\n",
    "\\begin{equation}\n",
    "\\left[\\begin{array}{ccc}\n",
    "1 & 2 & 3\\\\\n",
    "4 & 5 & 6\\\\\n",
    "7 & 8 & 9\n",
    "\\end{array}\\right]\n",
    "\\end{equation}\n",
    "\n"
   ]
  },
  {
   "cell_type": "code",
   "execution_count": 9,
   "metadata": {
    "collapsed": true,
    "hide_input": false
   },
   "outputs": [],
   "source": [
    "def nim(x):\n",
    "    print(x)"
   ]
  },
  {
   "cell_type": "code",
   "execution_count": 10,
   "metadata": {
    "collapsed": false,
    "hide_input": false
   },
   "outputs": [
    {
     "name": "stdout",
     "output_type": "stream",
     "text": [
      "99\n"
     ]
    }
   ],
   "source": [
    "print(99)"
   ]
  }
 ],
 "metadata": {
  "anaconda-cloud": {},
  "hide_input": true,
  "kernelspec": {
   "display_name": "Python [conda env:lamedoc]",
   "language": "python",
   "name": "conda-env-lamedoc-py"
  },
  "language_info": {
   "codemirror_mode": {
    "name": "ipython",
    "version": 3
   },
   "file_extension": ".py",
   "mimetype": "text/x-python",
   "name": "python",
   "nbconvert_exporter": "python",
   "pygments_lexer": "ipython3",
   "version": "3.5.2"
  }
 },
 "nbformat": 4,
 "nbformat_minor": 1
}
