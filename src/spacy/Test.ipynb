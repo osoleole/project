{
 "cells": [
  {
   "cell_type": "markdown",
   "metadata": {},
   "source": [
    "# Test layout"
   ]
  },
  {
   "cell_type": "code",
   "execution_count": 13,
   "metadata": {
    "collapsed": false,
    "nbpresent": {
     "id": "2ebc5072-86aa-4810-ad79-7601b9f8d7cd"
    },
    "scrolled": true,
    "slideshow": {
     "slide_type": "skip"
    }
   },
   "outputs": [],
   "source": [
    "def testus(name):\n",
    "    print(\"This is {} good\".format(name))\n",
    "    "
   ]
  },
  {
   "cell_type": "code",
   "execution_count": 14,
   "metadata": {
    "collapsed": false,
    "nbpresent": {
     "id": "53d1adec-ca3d-462a-835d-1c8a0fc9617f"
    },
    "scrolled": true
   },
   "outputs": [
    {
     "name": "stdout",
     "output_type": "stream",
     "text": [
      "This is Kazyyyyyyyyyyyyvava good\n"
     ]
    }
   ],
   "source": [
    "testus('yyyyyyyyyyyvava')"
   ]
  },
  {
   "cell_type": "code",
   "execution_count": null,
   "metadata": {
    "collapsed": false,
    "nbpresent": {
     "id": "c7e2489d-d216-46af-b581-e37a5f1a69f0"
    },
    "scrolled": false,
    "slideshow": {
     "slide_type": "skip"
    }
   },
   "outputs": [],
   "source": []
  }
 ],
 "metadata": {
  "anaconda-cloud": {},
  "celltoolbar": "Raw Cell Format",
  "kernelspec": {
   "display_name": "Python [conda env:lamedoc]",
   "language": "python",
   "name": "conda-env-lamedoc-py"
  },
  "language_info": {
   "codemirror_mode": {
    "name": "ipython",
    "version": 3
   },
   "file_extension": ".py",
   "mimetype": "text/x-python",
   "name": "python",
   "nbconvert_exporter": "python",
   "pygments_lexer": "ipython3",
   "version": "3.5.2"
  },
  "nbpresent": {
   "slides": {
    "3070ada4-c355-4e4c-b314-ad13d6a0d378": {
     "id": "3070ada4-c355-4e4c-b314-ad13d6a0d378",
     "prev": "83ac5d7d-e428-4590-93b9-3efe929a02e5",
     "regions": {
      "7d9dbb18-71c6-41aa-a70a-dbd01f3fc6d1": {
       "attrs": {
        "height": 1,
        "width": 1,
        "x": 0,
        "y": 0
       },
       "content": {
        "cell": "2ebc5072-86aa-4810-ad79-7601b9f8d7cd",
        "part": "source"
       },
       "id": "7d9dbb18-71c6-41aa-a70a-dbd01f3fc6d1"
      }
     }
    },
    "83ac5d7d-e428-4590-93b9-3efe929a02e5": {
     "id": "83ac5d7d-e428-4590-93b9-3efe929a02e5",
     "layout": "grid",
     "prev": null,
     "regions": {
      "7a297c79-f339-4251-8d6c-00c8471f2156": {
       "attrs": {
        "height": 0.8333333333333334,
        "pad": 0.01,
        "width": 0.8333333333333334,
        "x": 0.08333333333333333,
        "y": 0.08333333333333333
       },
       "content": {
        "cell": "472ed3bb-062f-4159-b95f-eff7bcd63762",
        "part": "whole"
       },
       "id": "7a297c79-f339-4251-8d6c-00c8471f2156"
      },
      "a960ffe7-fc8f-454c-88a4-8725ac3bf22b": {
       "attrs": {
        "height": 0.4166666666666667,
        "pad": 0.01,
        "width": 0.8333333333333334,
        "x": 0.08333333333333333,
        "y": 0.5
       },
       "content": {
        "cell": "53d1adec-ca3d-462a-835d-1c8a0fc9617f",
        "part": "whole"
       },
       "id": "a960ffe7-fc8f-454c-88a4-8725ac3bf22b"
      }
     }
    },
    "c93ec38a-962b-4f21-b500-fe6b13723687": {
     "id": "c93ec38a-962b-4f21-b500-fe6b13723687",
     "prev": "3070ada4-c355-4e4c-b314-ad13d6a0d378",
     "regions": {
      "49d873a9-ee06-41d7-8cae-8731746c5ec6": {
       "attrs": {
        "height": 0.8,
        "width": 0.45,
        "x": 0.05,
        "y": 0.1
       },
       "content": {
        "cell": "53d1adec-ca3d-462a-835d-1c8a0fc9617f",
        "part": "source"
       },
       "id": "49d873a9-ee06-41d7-8cae-8731746c5ec6"
      },
      "bef90c70-d73f-4c61-86fc-9de94bf09dde": {
       "attrs": {
        "height": 0.8,
        "width": 0.45,
        "x": 0.5,
        "y": 0.1
       },
       "content": {
        "cell": "53d1adec-ca3d-462a-835d-1c8a0fc9617f",
        "part": "outputs"
       },
       "id": "bef90c70-d73f-4c61-86fc-9de94bf09dde"
      }
     }
    }
   },
   "themes": {}
  }
 },
 "nbformat": 4,
 "nbformat_minor": 1
}
