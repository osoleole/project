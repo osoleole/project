{
 "cells": [
  {
   "cell_type": "code",
   "execution_count": null,
   "metadata": {
    "collapsed": true
   },
   "outputs": [],
   "source": [
    "import os\n",
    "import pickle\n",
    "import spacy\n",
    "import pandas as pd\n",
    "from gensim.models import Word2Vec\n",
    "from gensim.models.word2vec import LineSentence\n",
    "\n",
    "PROJECT_ROOT = '/home/astra/work/projects/lamedoc_new/project/'\n",
    "if os.path.dirname(PROJECT_ROOT) not in sys.path:\n",
    "    sys.path.append(os.path.dirname(PROJECT_ROOT))\n",
    "\n",
    "from settings import settings\n",
    "from src.utils.files_paths import model_init_path\n",
    "\n",
    "NORMALIZED_TEXT_FILE_NAME = 'normalized_26_12_2016_19_47.txt'\n",
    "normalized_text_file = os.path.join(settings.NORMALIZED_DATA_PATH, NORMALIZED_TEXT_FILE_NAME)\n",
    "# Load normalized text\n",
    "# normalized_text = LineSentence(normalized_text_file)\n",
    "# Path where model will be saved\n",
    "word2vec_filepath = model_init_path(NORMALIZED_TEXT_FILE_NAME)['w2v_model_filepath']\n",
    "\n",
    "print(normalized_text_file, word2vec_filepath)"
   ]
  }
 ],
 "metadata": {
  "anaconda-cloud": {},
  "hide_input": false,
  "kernelspec": {
   "display_name": "Python [conda env:lamedoc]",
   "language": "python",
   "name": "conda-env-lamedoc-py"
  },
  "language_info": {
   "codemirror_mode": {
    "name": "ipython",
    "version": 3
   },
   "file_extension": ".py",
   "mimetype": "text/x-python",
   "name": "python",
   "nbconvert_exporter": "python",
   "pygments_lexer": "ipython3",
   "version": "3.5.2"
  },
  "toc": {
   "nav_menu": {
    "height": "12px",
    "width": "252px"
   },
   "navigate_menu": true,
   "number_sections": true,
   "sideBar": true,
   "threshold": 4,
   "toc_cell": false,
   "toc_section_display": "block",
   "toc_window_display": false
  }
 },
 "nbformat": 4,
 "nbformat_minor": 2
}
