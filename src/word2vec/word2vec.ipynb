{
 "cells": [
  {
   "cell_type": "code",
   "execution_count": 1,
   "metadata": {
    "collapsed": false
   },
   "outputs": [
    {
     "name": "stdout",
     "output_type": "stream",
     "text": [
      "/home/astra/db/processed_text/normalized/normalized_26_12_2016_19_47.txt /home/astra/db/models/normalized_26_12_2016_19_47_w2v_model_26_12_2016_21_16\n"
     ]
    },
    {
     "name": "stderr",
     "output_type": "stream",
     "text": [
      "/home/astra/anaconda3/envs/lamedoc/lib/python3.5/site-packages/gensim/utils.py:1015: UserWarning: Pattern library is not installed, lemmatization won't be available.\n",
      "  warnings.warn(\"Pattern library is not installed, lemmatization won't be available.\")\n"
     ]
    }
   ],
   "source": [
    "import os\n",
    "import sys\n",
    "import pickle\n",
    "import spacy\n",
    "import pandas as pd\n",
    "\n",
    "from gensim.models import Word2Vec\n",
    "from gensim.models.word2vec import LineSentence\n",
    "\n",
    "PROJECT_ROOT = '/home/astra/work/projects/lamedoc_new/project/'\n",
    "if os.path.dirname(PROJECT_ROOT) not in sys.path:\n",
    "    sys.path.append(os.path.dirname(PROJECT_ROOT))\n",
    "\n",
    "from settings import settings\n",
    "from src.utils.files_paths import model_init_path\n",
    "\n",
    "NORMALIZED_TEXT_FILE_NAME = 'normalized_26_12_2016_19_47.txt'\n",
    "normalized_text_file = os.path.join(settings.NORMALIZED_DATA_PATH, NORMALIZED_TEXT_FILE_NAME)\n",
    "\n",
    "# Load normalized text\n",
    "normalized_text = LineSentence(normalized_text_file)\n",
    "\n",
    "# Path where model will be saved\n",
    "word2vec_filepath = model_init_path(NORMALIZED_TEXT_FILE_NAME)['w2v_model_filepath']\n",
    "\n",
    "print(normalized_text_file, word2vec_filepath)"
   ]
  },
  {
   "cell_type": "code",
   "execution_count": 2,
   "metadata": {
    "collapsed": false
   },
   "outputs": [
    {
     "name": "stdout",
     "output_type": "stream",
     "text": [
      "This is epoch N-1\n",
      "This is epoch N-2\n",
      "This is epoch N-3\n",
      "This is epoch N-4\n",
      "This is epoch N-5\n",
      "This is epoch N-6\n",
      "This is epoch N-7\n",
      "This is epoch N-8\n",
      "This is epoch N-9\n",
      "This is epoch N-10\n",
      "This is epoch N-11\n",
      "This is epoch N-12\n",
      "This is epoch N-13\n",
      "This is epoch N-14\n",
      "This is epoch N-15\n",
      "This is epoch N-16\n",
      "This is epoch N-17\n",
      "This is epoch N-18\n",
      "This is epoch N-19\n"
     ]
    }
   ],
   "source": [
    "# Run it to retrain our model. Model will be saved in \"word2vec_filepath\"\n",
    "# Most important training parameters:\n",
    "# size - word vector dimension\n",
    "# window - context size\n",
    "\n",
    "# Training parameters\n",
    "# Word vector dimension \n",
    "vector_dim = 300\n",
    "# Context size\n",
    "context_size = 5\n",
    "# Training epochs\n",
    "epochs = 20\n",
    "\n",
    "# Make False to use pretraind models\n",
    "if True:\n",
    "    # Take trigram text and start first epoch\n",
    "    text2vec = Word2Vec(normalized_text, size=vector_dim, window=context_size,\n",
    "                        min_count=20, sg=1, workers=4)\n",
    "    # Save first iteration \n",
    "    text2vec.save(word2vec_filepath)\n",
    "    # Train another epochs and save model in \"word2vec_filepath\"\n",
    "    for i in range(1,epochs):\n",
    "        text2vec.train(normalized_text)\n",
    "        print(\"\\rThis is epoch N-{}\".format(i), flush=True)\n",
    "        text2vec.save(word2vec_filepath)     "
   ]
  }
 ],
 "metadata": {
  "anaconda-cloud": {},
  "hide_input": false,
  "kernelspec": {
   "display_name": "Python [conda env:lamedoc]",
   "language": "python",
   "name": "conda-env-lamedoc-py"
  },
  "language_info": {
   "codemirror_mode": {
    "name": "ipython",
    "version": 3
   },
   "file_extension": ".py",
   "mimetype": "text/x-python",
   "name": "python",
   "nbconvert_exporter": "python",
   "pygments_lexer": "ipython3",
   "version": "3.5.2"
  },
  "toc": {
   "nav_menu": {
    "height": "12px",
    "width": "252px"
   },
   "navigate_menu": true,
   "number_sections": true,
   "sideBar": true,
   "threshold": 4,
   "toc_cell": false,
   "toc_section_display": "block",
   "toc_window_display": false
  }
 },
 "nbformat": 4,
 "nbformat_minor": 2
}
