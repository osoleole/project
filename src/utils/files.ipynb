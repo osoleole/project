{
 "cells": [
  {
   "cell_type": "code",
   "execution_count": 2,
   "metadata": {
    "collapsed": false
   },
   "outputs": [
    {
     "name": "stdout",
     "output_type": "stream",
     "text": [
      "{'trigram_model_filepath': '/home/astra/db/processed_text/ngrams/wiki_trigram_model_25_12_2016_21_29', 'unigram_text_filepath': '/home/astra/db/processed_text/ngrams/wiki_unigram_25_12_2016_21_29.txt', 'bigram_text_filepath': '/home/astra/db/processed_text/ngrams/wiki_bigram_25_12_2016_21_29.txt', 'normalized_text_filepath': '/home/astra/db/processed_text/normalized/wiki_normalized_25_12_2016_21_29.txt', 'trigram_text_filepath': '/home/astra/db/processed_text/ngrams/wiki_trigram_25_12_2016_21_29.txt', 'bigram_model_filepath': '/home/astra/db/processed_text/ngrams/wiki_bigram_model_25_12_2016_21_29'}\n"
     ]
    }
   ],
   "source": [
    "import sys\n",
    "import os\n",
    "from datetime import datetime\n",
    "\n",
    "PROJECT_ROOT = '/home/astra/work/projects/lamedoc_new/project/'\n",
    "sys.path.append(os.path.dirname(PROJECT_ROOT))\n",
    "\n",
    "from settings import settings\n",
    "\n",
    "def make_filename(filename, stage, file_type='text'):\n",
    "    '''file_type 'text' or 'model'. By default it is text '''\n",
    "    date_time = \"{:%d_%m_%Y_%H_%M}\".format(datetime.now())\n",
    "    if file_type == 'text':\n",
    "        return \"{}_{}_{}.txt\".format(filename, stage, date_time)\n",
    "    elif file_type == 'model':\n",
    "        return \"{}_{}_model_{}\".format(filename, stage, date_time)\n",
    "\n",
    "def init_paths():\n",
    "    return {'unigram_text_filepath':os.path.join(settings.NGRAMS_DATA_PATH, make_filename(settings.FILE_NAME, settings.UNIGRAM)),\n",
    "            'bigram_model_filepath':os.path.join(settings.NGRAMS_DATA_PATH, make_filename(settings.FILE_NAME, settings.BIGRAM, file_type='model')),\n",
    "            'bigram_text_filepath':os.path.join(settings.NGRAMS_DATA_PATH, make_filename(settings.FILE_NAME, settings.BIGRAM)),\n",
    "            'trigram_model_filepath':os.path.join(settings.NGRAMS_DATA_PATH, make_filename(settings.FILE_NAME, settings.TRIGRAM, file_type='model')),\n",
    "            'trigram_text_filepath':os.path.join(settings.NGRAMS_DATA_PATH, make_filename(settings.FILE_NAME, settings.TRIGRAM)),\n",
    "            'normalized_text_filepath':os.path.join(settings.NORMALIZED_DATA_PATH, make_filename(settings.FILE_NAME, settings.NORMALIZED))}\n",
    "\n",
    "print(init_paths())\n"
   ]
  },
  {
   "cell_type": "code",
   "execution_count": null,
   "metadata": {
    "collapsed": false
   },
   "outputs": [],
   "source": [
    "'uni_gram_text_filepath'.split('_')"
   ]
  },
  {
   "cell_type": "code",
   "execution_count": null,
   "metadata": {
    "collapsed": true
   },
   "outputs": [],
   "source": []
  }
 ],
 "metadata": {
  "anaconda-cloud": {},
  "hide_input": false,
  "kernelspec": {
   "display_name": "Python [conda env:lamedoc]",
   "language": "python",
   "name": "conda-env-lamedoc-py"
  },
  "language_info": {
   "codemirror_mode": {
    "name": "ipython",
    "version": 3
   },
   "file_extension": ".py",
   "mimetype": "text/x-python",
   "name": "python",
   "nbconvert_exporter": "python",
   "pygments_lexer": "ipython3",
   "version": "3.5.2"
  },
  "toc": {
   "nav_menu": {
    "height": "12px",
    "width": "252px"
   },
   "navigate_menu": true,
   "number_sections": true,
   "sideBar": true,
   "threshold": 4,
   "toc_cell": false,
   "toc_section_display": "block",
   "toc_window_display": false
  }
 },
 "nbformat": 4,
 "nbformat_minor": 2
}
