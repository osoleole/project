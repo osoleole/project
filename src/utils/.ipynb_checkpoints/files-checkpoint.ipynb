{
 "cells": [
  {
   "cell_type": "code",
   "execution_count": 1,
   "metadata": {
    "collapsed": false
   },
   "outputs": [
    {
     "ename": "NameError",
     "evalue": "name 'os' is not defined",
     "output_type": "error",
     "traceback": [
      "\u001b[0;31m---------------------------------------------------------------------------\u001b[0m",
      "\u001b[0;31mNameError\u001b[0m                                 Traceback (most recent call last)",
      "\u001b[0;32m<ipython-input-1-0246dfdc0af6>\u001b[0m in \u001b[0;36m<module>\u001b[0;34m()\u001b[0m\n\u001b[1;32m      3\u001b[0m \u001b[0;34m\u001b[0m\u001b[0m\n\u001b[1;32m      4\u001b[0m \u001b[0mPROJECT_ROOT\u001b[0m \u001b[0;34m=\u001b[0m \u001b[0;34m'/home/astra/work/projects/lamedoc_new/project/'\u001b[0m\u001b[0;34m\u001b[0m\u001b[0m\n\u001b[0;32m----> 5\u001b[0;31m \u001b[0msys\u001b[0m\u001b[0;34m.\u001b[0m\u001b[0mpath\u001b[0m\u001b[0;34m.\u001b[0m\u001b[0mappend\u001b[0m\u001b[0;34m(\u001b[0m\u001b[0mos\u001b[0m\u001b[0;34m.\u001b[0m\u001b[0mpath\u001b[0m\u001b[0;34m.\u001b[0m\u001b[0mdirname\u001b[0m\u001b[0;34m(\u001b[0m\u001b[0mPROJECT_ROOT\u001b[0m\u001b[0;34m)\u001b[0m\u001b[0;34m)\u001b[0m\u001b[0;34m\u001b[0m\u001b[0m\n\u001b[0m\u001b[1;32m      6\u001b[0m \u001b[0;34m\u001b[0m\u001b[0m\n\u001b[1;32m      7\u001b[0m \u001b[0;32mfrom\u001b[0m \u001b[0msettings\u001b[0m \u001b[0;32mimport\u001b[0m \u001b[0msettings\u001b[0m\u001b[0;34m\u001b[0m\u001b[0m\n",
      "\u001b[0;31mNameError\u001b[0m: name 'os' is not defined"
     ]
    }
   ],
   "source": [
    "import sys\n",
    "import os\n",
    "from datetime import datetime\n",
    "\n",
    "PROJECT_ROOT = '/home/astra/work/projects/lamedoc_new/project/'\n",
    "sys.path.append(os.path.dirname(PROJECT_ROOT))\n",
    "\n",
    "from settings import settings\n",
    "\n",
    "def make_filename(filename, stage, file_type='text'):\n",
    "    '''file_type 'text' or 'model'. By default it is text '''\n",
    "    date_time = \"{:%d_%m_%Y_%H_%M}\".format(datetime.now())\n",
    "    if file_type == 'text':\n",
    "        return \"{}_{}_{}.txt\".format(filename, stage, date_time)\n",
    "    elif file_type == 'model':\n",
    "        return \"{}_{}_model_{}\".format(filename, stage, date_time)\n",
    "\n",
    "def init_paths():\n",
    "    return {'unigram_text_filepath':os.path.join(settings.NGRAMS_DATA_PATH, make_filename(settings.FILE_NAME, settings.UNIGRAM)),\n",
    "            'bigram_model_filepath':os.path.join(settings.NGRAMS_DATA_PATH, make_filename(settings.FILE_NAME, settings.BIGRAM, file_type='model')),\n",
    "            'bigram_text_filepath':os.path.join(settings.NGRAMS_DATA_PATH, make_filename(settings.FILE_NAME, settings.BIGRAM)),\n",
    "            'trigram_model_filepath':os.path.join(settings.NGRAMS_DATA_PATH, make_filename(settings.FILE_NAME, settings.TRIGRAM, file_type='model')),\n",
    "            'trigram_text_filepath':os.path.join(settings.NGRAMS_DATA_PATH, make_filename(settings.FILE_NAME, settings.TRIGRAM)),\n",
    "            'normalized_text_filepath':os.path.join(settings.NORMALIZED_DATA_PATH, make_filename(settings.FILE_NAME, settings.NORMALIZED))}\n",
    "\n",
    "print(init_paths())\n"
   ]
  },
  {
   "cell_type": "code",
   "execution_count": null,
   "metadata": {
    "collapsed": false
   },
   "outputs": [],
   "source": [
    "'uni_gram_text_filepath'.split('_')"
   ]
  },
  {
   "cell_type": "code",
   "execution_count": null,
   "metadata": {
    "collapsed": true
   },
   "outputs": [],
   "source": []
  }
 ],
 "metadata": {
  "anaconda-cloud": {},
  "hide_input": false,
  "kernelspec": {
   "display_name": "Python [conda env:lamedoc]",
   "language": "python",
   "name": "conda-env-lamedoc-py"
  },
  "language_info": {
   "codemirror_mode": {
    "name": "ipython",
    "version": 3
   },
   "file_extension": ".py",
   "mimetype": "text/x-python",
   "name": "python",
   "nbconvert_exporter": "python",
   "pygments_lexer": "ipython3",
   "version": "3.5.2"
  },
  "toc": {
   "nav_menu": {
    "height": "12px",
    "width": "252px"
   },
   "navigate_menu": true,
   "number_sections": true,
   "sideBar": true,
   "threshold": 4,
   "toc_cell": false,
   "toc_section_display": "block",
   "toc_window_display": false
  }
 },
 "nbformat": 4,
 "nbformat_minor": 2
}
