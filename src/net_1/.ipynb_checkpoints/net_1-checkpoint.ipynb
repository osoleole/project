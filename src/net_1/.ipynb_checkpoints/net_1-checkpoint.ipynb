{
 "cells": [
  {
   "cell_type": "code",
   "execution_count": 21,
   "metadata": {
    "collapsed": false
   },
   "outputs": [
    {
     "data": {
      "text/html": [
       "\n",
       "    <div class=\"bk-root\">\n",
       "        <a href=\"http://bokeh.pydata.org\" target=\"_blank\" class=\"bk-logo bk-logo-small bk-logo-notebook\"></a>\n",
       "        <span id=\"11ad0d59-46c2-498d-8bbd-aa20b942fdf3\">Loading BokehJS ...</span>\n",
       "    </div>"
      ]
     },
     "metadata": {},
     "output_type": "display_data"
    },
    {
     "data": {
      "application/javascript": [
       "\n",
       "(function(global) {\n",
       "  function now() {\n",
       "    return new Date();\n",
       "  }\n",
       "\n",
       "  var force = \"1\";\n",
       "\n",
       "  if (typeof (window._bokeh_onload_callbacks) === \"undefined\" || force !== \"\") {\n",
       "    window._bokeh_onload_callbacks = [];\n",
       "    window._bokeh_is_loading = undefined;\n",
       "  }\n",
       "\n",
       "\n",
       "  \n",
       "  if (typeof (window._bokeh_timeout) === \"undefined\" || force !== \"\") {\n",
       "    window._bokeh_timeout = Date.now() + 5000;\n",
       "    window._bokeh_failed_load = false;\n",
       "  }\n",
       "\n",
       "  var NB_LOAD_WARNING = {'data': {'text/html':\n",
       "     \"<div style='background-color: #fdd'>\\n\"+\n",
       "     \"<p>\\n\"+\n",
       "     \"BokehJS does not appear to have successfully loaded. If loading BokehJS from CDN, this \\n\"+\n",
       "     \"may be due to a slow or bad network connection. Possible fixes:\\n\"+\n",
       "     \"</p>\\n\"+\n",
       "     \"<ul>\\n\"+\n",
       "     \"<li>re-rerun `output_notebook()` to attempt to load from CDN again, or</li>\\n\"+\n",
       "     \"<li>use INLINE resources instead, as so:</li>\\n\"+\n",
       "     \"</ul>\\n\"+\n",
       "     \"<code>\\n\"+\n",
       "     \"from bokeh.resources import INLINE\\n\"+\n",
       "     \"output_notebook(resources=INLINE)\\n\"+\n",
       "     \"</code>\\n\"+\n",
       "     \"</div>\"}};\n",
       "\n",
       "  function display_loaded() {\n",
       "    if (window.Bokeh !== undefined) {\n",
       "      Bokeh.$(\"#11ad0d59-46c2-498d-8bbd-aa20b942fdf3\").text(\"BokehJS successfully loaded.\");\n",
       "    } else if (Date.now() < window._bokeh_timeout) {\n",
       "      setTimeout(display_loaded, 100)\n",
       "    }\n",
       "  }\n",
       "\n",
       "  function run_callbacks() {\n",
       "    window._bokeh_onload_callbacks.forEach(function(callback) { callback() });\n",
       "    delete window._bokeh_onload_callbacks\n",
       "    console.info(\"Bokeh: all callbacks have finished\");\n",
       "  }\n",
       "\n",
       "  function load_libs(js_urls, callback) {\n",
       "    window._bokeh_onload_callbacks.push(callback);\n",
       "    if (window._bokeh_is_loading > 0) {\n",
       "      console.log(\"Bokeh: BokehJS is being loaded, scheduling callback at\", now());\n",
       "      return null;\n",
       "    }\n",
       "    if (js_urls == null || js_urls.length === 0) {\n",
       "      run_callbacks();\n",
       "      return null;\n",
       "    }\n",
       "    console.log(\"Bokeh: BokehJS not loaded, scheduling load and callback at\", now());\n",
       "    window._bokeh_is_loading = js_urls.length;\n",
       "    for (var i = 0; i < js_urls.length; i++) {\n",
       "      var url = js_urls[i];\n",
       "      var s = document.createElement('script');\n",
       "      s.src = url;\n",
       "      s.async = false;\n",
       "      s.onreadystatechange = s.onload = function() {\n",
       "        window._bokeh_is_loading--;\n",
       "        if (window._bokeh_is_loading === 0) {\n",
       "          console.log(\"Bokeh: all BokehJS libraries loaded\");\n",
       "          run_callbacks()\n",
       "        }\n",
       "      };\n",
       "      s.onerror = function() {\n",
       "        console.warn(\"failed to load library \" + url);\n",
       "      };\n",
       "      console.log(\"Bokeh: injecting script tag for BokehJS library: \", url);\n",
       "      document.getElementsByTagName(\"head\")[0].appendChild(s);\n",
       "    }\n",
       "  };var element = document.getElementById(\"11ad0d59-46c2-498d-8bbd-aa20b942fdf3\");\n",
       "  if (element == null) {\n",
       "    console.log(\"Bokeh: ERROR: autoload.js configured with elementid '11ad0d59-46c2-498d-8bbd-aa20b942fdf3' but no matching script tag was found. \")\n",
       "    return false;\n",
       "  }\n",
       "\n",
       "  var js_urls = ['https://cdn.pydata.org/bokeh/release/bokeh-0.12.3.min.js', 'https://cdn.pydata.org/bokeh/release/bokeh-widgets-0.12.3.min.js'];\n",
       "\n",
       "  var inline_js = [\n",
       "    function(Bokeh) {\n",
       "      Bokeh.set_log_level(\"info\");\n",
       "    },\n",
       "    \n",
       "    function(Bokeh) {\n",
       "      \n",
       "      Bokeh.$(\"#11ad0d59-46c2-498d-8bbd-aa20b942fdf3\").text(\"BokehJS is loading...\");\n",
       "    },\n",
       "    function(Bokeh) {\n",
       "      console.log(\"Bokeh: injecting CSS: https://cdn.pydata.org/bokeh/release/bokeh-0.12.3.min.css\");\n",
       "      Bokeh.embed.inject_css(\"https://cdn.pydata.org/bokeh/release/bokeh-0.12.3.min.css\");\n",
       "      console.log(\"Bokeh: injecting CSS: https://cdn.pydata.org/bokeh/release/bokeh-widgets-0.12.3.min.css\");\n",
       "      Bokeh.embed.inject_css(\"https://cdn.pydata.org/bokeh/release/bokeh-widgets-0.12.3.min.css\");\n",
       "    }\n",
       "  ];\n",
       "\n",
       "  function run_inline_js() {\n",
       "    \n",
       "    if ((window.Bokeh !== undefined) || (force === \"1\")) {\n",
       "      for (var i = 0; i < inline_js.length; i++) {\n",
       "        inline_js[i](window.Bokeh);\n",
       "      }if (force === \"1\") {\n",
       "        display_loaded();\n",
       "      }} else if (Date.now() < window._bokeh_timeout) {\n",
       "      setTimeout(run_inline_js, 100);\n",
       "    } else if (!window._bokeh_failed_load) {\n",
       "      console.log(\"Bokeh: BokehJS failed to load within specified timeout.\");\n",
       "      window._bokeh_failed_load = true;\n",
       "    } else if (!force) {\n",
       "      var cell = $(\"#11ad0d59-46c2-498d-8bbd-aa20b942fdf3\").parents('.cell').data().cell;\n",
       "      cell.output_area.append_execute_result(NB_LOAD_WARNING)\n",
       "    }\n",
       "\n",
       "  }\n",
       "\n",
       "  if (window._bokeh_is_loading === 0) {\n",
       "    console.log(\"Bokeh: BokehJS loaded, going straight to plotting\");\n",
       "    run_inline_js();\n",
       "  } else {\n",
       "    load_libs(js_urls, function() {\n",
       "      console.log(\"Bokeh: BokehJS plotting callback run at\", now());\n",
       "      run_inline_js();\n",
       "    });\n",
       "  }\n",
       "}(this));"
      ]
     },
     "metadata": {},
     "output_type": "display_data"
    }
   ],
   "source": [
    "import numpy as np\n",
    "import pickle\n",
    "import time\n",
    "from ipywidgets import interact\n",
    "from bokeh.io import push_notebook, save\n",
    "from bokeh.plotting import figure, output_file, show, output_notebook\n",
    "output_notebook()"
   ]
  },
  {
   "cell_type": "code",
   "execution_count": 22,
   "metadata": {
    "collapsed": false
   },
   "outputs": [
    {
     "name": "stdout",
     "output_type": "stream",
     "text": [
      "X-[0, 2.2506049183595893]: Y-[0, 2.2578898223628294]\n"
     ]
    }
   ],
   "source": [
    "ra1 = np.random.rand(2,2)\n",
    "ra2 = np.array([1,2])\n",
    "ray = np.dot(ra1,ra2)\n",
    "xc = [0,ray[0]]\n",
    "yc = [0,ray[1]]\n",
    "\n",
    "print(\"X-{}: Y-{}\".format(xc,yc))"
   ]
  },
  {
   "cell_type": "code",
   "execution_count": 23,
   "metadata": {
    "collapsed": false
   },
   "outputs": [
    {
     "data": {
      "text/html": [
       "\n",
       "\n",
       "    <div class=\"bk-root\">\n",
       "        <div class=\"plotdiv\" id=\"19e02250-70a9-4724-a433-854d80e2f1db\"></div>\n",
       "    </div>\n",
       "<script type=\"text/javascript\">\n",
       "  \n",
       "  (function(global) {\n",
       "    function now() {\n",
       "      return new Date();\n",
       "    }\n",
       "  \n",
       "    var force = \"\";\n",
       "  \n",
       "    if (typeof (window._bokeh_onload_callbacks) === \"undefined\" || force !== \"\") {\n",
       "      window._bokeh_onload_callbacks = [];\n",
       "      window._bokeh_is_loading = undefined;\n",
       "    }\n",
       "  \n",
       "  \n",
       "    \n",
       "    if (typeof (window._bokeh_timeout) === \"undefined\" || force !== \"\") {\n",
       "      window._bokeh_timeout = Date.now() + 0;\n",
       "      window._bokeh_failed_load = false;\n",
       "    }\n",
       "  \n",
       "    var NB_LOAD_WARNING = {'data': {'text/html':\n",
       "       \"<div style='background-color: #fdd'>\\n\"+\n",
       "       \"<p>\\n\"+\n",
       "       \"BokehJS does not appear to have successfully loaded. If loading BokehJS from CDN, this \\n\"+\n",
       "       \"may be due to a slow or bad network connection. Possible fixes:\\n\"+\n",
       "       \"</p>\\n\"+\n",
       "       \"<ul>\\n\"+\n",
       "       \"<li>re-rerun `output_notebook()` to attempt to load from CDN again, or</li>\\n\"+\n",
       "       \"<li>use INLINE resources instead, as so:</li>\\n\"+\n",
       "       \"</ul>\\n\"+\n",
       "       \"<code>\\n\"+\n",
       "       \"from bokeh.resources import INLINE\\n\"+\n",
       "       \"output_notebook(resources=INLINE)\\n\"+\n",
       "       \"</code>\\n\"+\n",
       "       \"</div>\"}};\n",
       "  \n",
       "    function display_loaded() {\n",
       "      if (window.Bokeh !== undefined) {\n",
       "        Bokeh.$(\"#19e02250-70a9-4724-a433-854d80e2f1db\").text(\"BokehJS successfully loaded.\");\n",
       "      } else if (Date.now() < window._bokeh_timeout) {\n",
       "        setTimeout(display_loaded, 100)\n",
       "      }\n",
       "    }if ((window.Jupyter !== undefined) && Jupyter.notebook.kernel) {\n",
       "      comm_manager = Jupyter.notebook.kernel.comm_manager\n",
       "      comm_manager.register_target(\"f81a2ae6-0bc3-42e9-936f-db63768a7066\", function () {});\n",
       "    }\n",
       "  \n",
       "    function run_callbacks() {\n",
       "      window._bokeh_onload_callbacks.forEach(function(callback) { callback() });\n",
       "      delete window._bokeh_onload_callbacks\n",
       "      console.info(\"Bokeh: all callbacks have finished\");\n",
       "    }\n",
       "  \n",
       "    function load_libs(js_urls, callback) {\n",
       "      window._bokeh_onload_callbacks.push(callback);\n",
       "      if (window._bokeh_is_loading > 0) {\n",
       "        console.log(\"Bokeh: BokehJS is being loaded, scheduling callback at\", now());\n",
       "        return null;\n",
       "      }\n",
       "      if (js_urls == null || js_urls.length === 0) {\n",
       "        run_callbacks();\n",
       "        return null;\n",
       "      }\n",
       "      console.log(\"Bokeh: BokehJS not loaded, scheduling load and callback at\", now());\n",
       "      window._bokeh_is_loading = js_urls.length;\n",
       "      for (var i = 0; i < js_urls.length; i++) {\n",
       "        var url = js_urls[i];\n",
       "        var s = document.createElement('script');\n",
       "        s.src = url;\n",
       "        s.async = false;\n",
       "        s.onreadystatechange = s.onload = function() {\n",
       "          window._bokeh_is_loading--;\n",
       "          if (window._bokeh_is_loading === 0) {\n",
       "            console.log(\"Bokeh: all BokehJS libraries loaded\");\n",
       "            run_callbacks()\n",
       "          }\n",
       "        };\n",
       "        s.onerror = function() {\n",
       "          console.warn(\"failed to load library \" + url);\n",
       "        };\n",
       "        console.log(\"Bokeh: injecting script tag for BokehJS library: \", url);\n",
       "        document.getElementsByTagName(\"head\")[0].appendChild(s);\n",
       "      }\n",
       "    };var element = document.getElementById(\"19e02250-70a9-4724-a433-854d80e2f1db\");\n",
       "    if (element == null) {\n",
       "      console.log(\"Bokeh: ERROR: autoload.js configured with elementid '19e02250-70a9-4724-a433-854d80e2f1db' but no matching script tag was found. \")\n",
       "      return false;\n",
       "    }\n",
       "  \n",
       "    var js_urls = [];\n",
       "  \n",
       "    var inline_js = [\n",
       "      function(Bokeh) {\n",
       "        Bokeh.$(function() {\n",
       "            var docs_json = {\"248cf0c7-a7d7-4878-b345-fd803788f2d4\":{\"roots\":{\"references\":[{\"attributes\":{\"active_drag\":\"auto\",\"active_scroll\":\"auto\",\"active_tap\":\"auto\",\"tools\":[{\"id\":\"ba14a1aa-063f-42cb-941b-5ee56d06aa5e\",\"type\":\"PanTool\"},{\"id\":\"768064d9-e0d8-4ba4-b51a-b7b024fed1ef\",\"type\":\"WheelZoomTool\"},{\"id\":\"f50a5ef5-4c9f-4f99-b1a8-7cd43d92a76c\",\"type\":\"BoxZoomTool\"},{\"id\":\"42506182-7f65-4e24-95ba-38902ec39fb2\",\"type\":\"SaveTool\"},{\"id\":\"c32611bc-1b51-42e4-8ae5-7425fb1571b1\",\"type\":\"ResetTool\"},{\"id\":\"1ee47d7e-1767-49b1-8b13-61f1b8b110bd\",\"type\":\"HelpTool\"}]},\"id\":\"5ae08e68-c779-446e-b5a1-fd45bdb097bd\",\"type\":\"Toolbar\"},{\"attributes\":{},\"id\":\"f13942f9-a99c-40a5-9f1f-65a293c394e7\",\"type\":\"BasicTicker\"},{\"attributes\":{\"plot\":{\"id\":\"95412770-d28f-4fc8-a2f9-761d7b5e0150\",\"subtype\":\"Figure\",\"type\":\"Plot\"}},\"id\":\"42506182-7f65-4e24-95ba-38902ec39fb2\",\"type\":\"SaveTool\"},{\"attributes\":{\"plot\":null,\"text\":\"line\"},\"id\":\"e0204cc8-48ca-4f6f-a166-124602bf93f9\",\"type\":\"Title\"},{\"attributes\":{\"plot\":{\"id\":\"95412770-d28f-4fc8-a2f9-761d7b5e0150\",\"subtype\":\"Figure\",\"type\":\"Plot\"}},\"id\":\"ba14a1aa-063f-42cb-941b-5ee56d06aa5e\",\"type\":\"PanTool\"},{\"attributes\":{\"data_source\":{\"id\":\"81306a35-a62a-445e-a8ad-8230c9f86858\",\"type\":\"ColumnDataSource\"},\"glyph\":{\"id\":\"d9bd34cf-7617-44c5-908b-c044cc33a142\",\"type\":\"Line\"},\"hover_glyph\":null,\"nonselection_glyph\":{\"id\":\"bff2d775-fbe0-476f-9b4a-91d908caae78\",\"type\":\"Line\"},\"selection_glyph\":null},\"id\":\"fe9957eb-9279-4905-b0d1-7aeeeacf8647\",\"type\":\"GlyphRenderer\"},{\"attributes\":{\"line_alpha\":{\"value\":0.1},\"line_color\":{\"value\":\"#1f77b4\"},\"x\":{\"field\":\"x\"},\"y\":{\"field\":\"y\"}},\"id\":\"bff2d775-fbe0-476f-9b4a-91d908caae78\",\"type\":\"Line\"},{\"attributes\":{\"plot\":{\"id\":\"95412770-d28f-4fc8-a2f9-761d7b5e0150\",\"subtype\":\"Figure\",\"type\":\"Plot\"}},\"id\":\"768064d9-e0d8-4ba4-b51a-b7b024fed1ef\",\"type\":\"WheelZoomTool\"},{\"attributes\":{\"dimension\":1,\"plot\":{\"id\":\"95412770-d28f-4fc8-a2f9-761d7b5e0150\",\"subtype\":\"Figure\",\"type\":\"Plot\"},\"ticker\":{\"id\":\"bce3fafd-5de5-45d0-9990-f39e65aec990\",\"type\":\"BasicTicker\"}},\"id\":\"3448cd4f-294f-4674-a610-20f2292ffa61\",\"type\":\"Grid\"},{\"attributes\":{\"callback\":null,\"end\":3.0,\"start\":-3.0},\"id\":\"8d63d016-ac5b-4e86-a2fc-189aa629b2ff\",\"type\":\"Range1d\"},{\"attributes\":{\"line_color\":{\"value\":\"#1f77b4\"},\"x\":{\"field\":\"x\"},\"y\":{\"field\":\"y\"}},\"id\":\"d9bd34cf-7617-44c5-908b-c044cc33a142\",\"type\":\"Line\"},{\"attributes\":{\"plot\":{\"id\":\"95412770-d28f-4fc8-a2f9-761d7b5e0150\",\"subtype\":\"Figure\",\"type\":\"Plot\"}},\"id\":\"1ee47d7e-1767-49b1-8b13-61f1b8b110bd\",\"type\":\"HelpTool\"},{\"attributes\":{\"formatter\":{\"id\":\"a2a32d2b-dada-46ae-9b9c-8f1b41098969\",\"type\":\"BasicTickFormatter\"},\"plot\":{\"id\":\"95412770-d28f-4fc8-a2f9-761d7b5e0150\",\"subtype\":\"Figure\",\"type\":\"Plot\"},\"ticker\":{\"id\":\"bce3fafd-5de5-45d0-9990-f39e65aec990\",\"type\":\"BasicTicker\"}},\"id\":\"bb246b13-36ad-4478-915b-d31ba208b69b\",\"type\":\"LinearAxis\"},{\"attributes\":{\"formatter\":{\"id\":\"d95e6cb5-5bbe-4150-8563-3d79c45b6596\",\"type\":\"BasicTickFormatter\"},\"plot\":{\"id\":\"95412770-d28f-4fc8-a2f9-761d7b5e0150\",\"subtype\":\"Figure\",\"type\":\"Plot\"},\"ticker\":{\"id\":\"f13942f9-a99c-40a5-9f1f-65a293c394e7\",\"type\":\"BasicTicker\"}},\"id\":\"7e69341c-867f-4106-8c75-f24295b3a910\",\"type\":\"LinearAxis\"},{\"attributes\":{},\"id\":\"9a13e732-ba08-49d4-a533-98dce84e346c\",\"type\":\"ToolEvents\"},{\"attributes\":{},\"id\":\"d95e6cb5-5bbe-4150-8563-3d79c45b6596\",\"type\":\"BasicTickFormatter\"},{\"attributes\":{\"bottom_units\":\"screen\",\"fill_alpha\":{\"value\":0.5},\"fill_color\":{\"value\":\"lightgrey\"},\"left_units\":\"screen\",\"level\":\"overlay\",\"line_alpha\":{\"value\":1.0},\"line_color\":{\"value\":\"black\"},\"line_dash\":[4,4],\"line_width\":{\"value\":2},\"plot\":null,\"render_mode\":\"css\",\"right_units\":\"screen\",\"top_units\":\"screen\"},\"id\":\"8aae78df-6d89-4ded-9a6f-3bdbbe7c985f\",\"type\":\"BoxAnnotation\"},{\"attributes\":{\"callback\":null,\"column_names\":[\"y\",\"x\"],\"data\":{\"x\":[0.0,2.2506049183595893],\"y\":[0.0,2.2578898223628294]}},\"id\":\"81306a35-a62a-445e-a8ad-8230c9f86858\",\"type\":\"ColumnDataSource\"},{\"attributes\":{\"plot\":{\"id\":\"95412770-d28f-4fc8-a2f9-761d7b5e0150\",\"subtype\":\"Figure\",\"type\":\"Plot\"},\"ticker\":{\"id\":\"f13942f9-a99c-40a5-9f1f-65a293c394e7\",\"type\":\"BasicTicker\"}},\"id\":\"e1e207d3-29a7-464a-b582-ddb0cb207764\",\"type\":\"Grid\"},{\"attributes\":{},\"id\":\"a2a32d2b-dada-46ae-9b9c-8f1b41098969\",\"type\":\"BasicTickFormatter\"},{\"attributes\":{\"plot\":{\"id\":\"95412770-d28f-4fc8-a2f9-761d7b5e0150\",\"subtype\":\"Figure\",\"type\":\"Plot\"}},\"id\":\"c32611bc-1b51-42e4-8ae5-7425fb1571b1\",\"type\":\"ResetTool\"},{\"attributes\":{\"overlay\":{\"id\":\"8aae78df-6d89-4ded-9a6f-3bdbbe7c985f\",\"type\":\"BoxAnnotation\"},\"plot\":{\"id\":\"95412770-d28f-4fc8-a2f9-761d7b5e0150\",\"subtype\":\"Figure\",\"type\":\"Plot\"}},\"id\":\"f50a5ef5-4c9f-4f99-b1a8-7cd43d92a76c\",\"type\":\"BoxZoomTool\"},{\"attributes\":{\"callback\":null,\"end\":3.0,\"start\":-3.0},\"id\":\"9a0d86d7-2bf9-4ff6-8912-ac986c4c5d11\",\"type\":\"Range1d\"},{\"attributes\":{\"below\":[{\"id\":\"7e69341c-867f-4106-8c75-f24295b3a910\",\"type\":\"LinearAxis\"}],\"left\":[{\"id\":\"bb246b13-36ad-4478-915b-d31ba208b69b\",\"type\":\"LinearAxis\"}],\"plot_height\":450,\"plot_width\":450,\"renderers\":[{\"id\":\"7e69341c-867f-4106-8c75-f24295b3a910\",\"type\":\"LinearAxis\"},{\"id\":\"e1e207d3-29a7-464a-b582-ddb0cb207764\",\"type\":\"Grid\"},{\"id\":\"bb246b13-36ad-4478-915b-d31ba208b69b\",\"type\":\"LinearAxis\"},{\"id\":\"3448cd4f-294f-4674-a610-20f2292ffa61\",\"type\":\"Grid\"},{\"id\":\"8aae78df-6d89-4ded-9a6f-3bdbbe7c985f\",\"type\":\"BoxAnnotation\"},{\"id\":\"fe9957eb-9279-4905-b0d1-7aeeeacf8647\",\"type\":\"GlyphRenderer\"}],\"title\":{\"id\":\"e0204cc8-48ca-4f6f-a166-124602bf93f9\",\"type\":\"Title\"},\"tool_events\":{\"id\":\"9a13e732-ba08-49d4-a533-98dce84e346c\",\"type\":\"ToolEvents\"},\"toolbar\":{\"id\":\"5ae08e68-c779-446e-b5a1-fd45bdb097bd\",\"type\":\"Toolbar\"},\"webgl\":true,\"x_range\":{\"id\":\"9a0d86d7-2bf9-4ff6-8912-ac986c4c5d11\",\"type\":\"Range1d\"},\"y_range\":{\"id\":\"8d63d016-ac5b-4e86-a2fc-189aa629b2ff\",\"type\":\"Range1d\"}},\"id\":\"95412770-d28f-4fc8-a2f9-761d7b5e0150\",\"subtype\":\"Figure\",\"type\":\"Plot\"},{\"attributes\":{},\"id\":\"bce3fafd-5de5-45d0-9990-f39e65aec990\",\"type\":\"BasicTicker\"}],\"root_ids\":[\"95412770-d28f-4fc8-a2f9-761d7b5e0150\"]},\"title\":\"Bokeh Application\",\"version\":\"0.12.3\"}};\n",
       "            var render_items = [{\"docid\":\"248cf0c7-a7d7-4878-b345-fd803788f2d4\",\"elementid\":\"19e02250-70a9-4724-a433-854d80e2f1db\",\"modelid\":\"95412770-d28f-4fc8-a2f9-761d7b5e0150\",\"notebook_comms_target\":\"f81a2ae6-0bc3-42e9-936f-db63768a7066\"}];\n",
       "            \n",
       "            Bokeh.embed.embed_items(docs_json, render_items);\n",
       "        });\n",
       "      },\n",
       "      function(Bokeh) {\n",
       "      }\n",
       "    ];\n",
       "  \n",
       "    function run_inline_js() {\n",
       "      \n",
       "      if ((window.Bokeh !== undefined) || (force === \"1\")) {\n",
       "        for (var i = 0; i < inline_js.length; i++) {\n",
       "          inline_js[i](window.Bokeh);\n",
       "        }if (force === \"1\") {\n",
       "          display_loaded();\n",
       "        }} else if (Date.now() < window._bokeh_timeout) {\n",
       "        setTimeout(run_inline_js, 100);\n",
       "      } else if (!window._bokeh_failed_load) {\n",
       "        console.log(\"Bokeh: BokehJS failed to load within specified timeout.\");\n",
       "        window._bokeh_failed_load = true;\n",
       "      } else if (!force) {\n",
       "        var cell = $(\"#19e02250-70a9-4724-a433-854d80e2f1db\").parents('.cell').data().cell;\n",
       "        cell.output_area.append_execute_result(NB_LOAD_WARNING)\n",
       "      }\n",
       "  \n",
       "    }\n",
       "  \n",
       "    if (window._bokeh_is_loading === 0) {\n",
       "      console.log(\"Bokeh: BokehJS loaded, going straight to plotting\");\n",
       "      run_inline_js();\n",
       "    } else {\n",
       "      load_libs(js_urls, function() {\n",
       "        console.log(\"Bokeh: BokehJS plotting callback run at\", now());\n",
       "        run_inline_js();\n",
       "      });\n",
       "    }\n",
       "  }(this));\n",
       "</script>"
      ]
     },
     "metadata": {},
     "output_type": "display_data"
    },
    {
     "data": {
      "text/html": [
       "<p><code>&lt;Bokeh Notebook handle for <strong>In[23]</strong>&gt;</code></p>"
      ],
      "text/plain": [
       "<bokeh.io._CommsHandle at 0x7f65c0fcb588>"
      ]
     },
     "execution_count": 23,
     "metadata": {},
     "output_type": "execute_result"
    }
   ],
   "source": [
    "\n",
    "p = figure(title=\"line\", plot_width=450, plot_height=450, y_range=[-3.0,3.0], x_range=[-3.0,3.0], webgl=True)\n",
    "r = p.line(xc,yc)\n",
    "\n",
    "def update():\n",
    "    ra1 = np.random.rand(2,2)\n",
    "    ra2 = np.array([1,2])\n",
    "    ray = np.dot(ra1,ra2)\n",
    "    xc = [0,ray[0]]\n",
    "    yc = [0,ray[1]]\n",
    "    r.data_source.data['y'] = yc\n",
    "    r.data_source.data['x'] = xc\n",
    "    push_notebook()\n",
    "\n",
    "show(p, notebook_handle=True)"
   ]
  },
  {
   "cell_type": "code",
   "execution_count": 19,
   "metadata": {
    "collapsed": false
   },
   "outputs": [
    {
     "name": "stderr",
     "output_type": "stream",
     "text": [
      "/home/tetta/anaconda3/envs/lamedoc/lib/python3.5/site-packages/bokeh/io.py:433: UserWarning: save() called but no resources were supplied and output_file(...) was never called, defaulting to resources.CDN\n",
      "  warnings.warn(\"save() called but no resources were supplied and output_file(...) was never called, defaulting to resources.CDN\")\n",
      "/home/tetta/anaconda3/envs/lamedoc/lib/python3.5/site-packages/bokeh/io.py:443: UserWarning: save() called but no title was supplied and output_file(...) was never called, using default title 'Bokeh Plot'\n",
      "  warnings.warn(\"save() called but no title was supplied and output_file(...) was never called, using default title 'Bokeh Plot'\")\n"
     ]
    }
   ],
   "source": [
    "for i in range(2):\n",
    "    time.sleep(0.5)\n",
    "    save(obj=p, filename='saved'+str(i))\n",
    "    update()"
   ]
  },
  {
   "cell_type": "markdown",
   "metadata": {},
   "source": [
    "Picture"
   ]
  },
  {
   "cell_type": "markdown",
   "metadata": {
    "collapsed": true
   },
   "source": [
    "![](plot1.png).                                                       "
   ]
  },
  {
   "cell_type": "markdown",
   "metadata": {},
   "source": [
    "Picture1. Vector space."
   ]
  },
  {
   "cell_type": "markdown",
   "metadata": {},
   "source": [
    "### Very well defined"
   ]
  },
  {
   "cell_type": "code",
   "execution_count": null,
   "metadata": {
    "collapsed": true
   },
   "outputs": [],
   "source": []
  }
 ],
 "metadata": {
  "anaconda-cloud": {},
  "hide_input": false,
  "kernelspec": {
   "display_name": "Python [conda env:lamedoc]",
   "language": "python",
   "name": "conda-env-lamedoc-py"
  },
  "language_info": {
   "codemirror_mode": {
    "name": "ipython",
    "version": 3
   },
   "file_extension": ".py",
   "mimetype": "text/x-python",
   "name": "python",
   "nbconvert_exporter": "python",
   "pygments_lexer": "ipython3",
   "version": "3.5.2"
  },
  "toc": {
   "nav_menu": {
    "height": "12px",
    "width": "252px"
   },
   "navigate_menu": true,
   "number_sections": true,
   "sideBar": true,
   "threshold": 4,
   "toc_cell": false,
   "toc_section_display": "block",
   "toc_window_display": false
  }
 },
 "nbformat": 4,
 "nbformat_minor": 1
}
